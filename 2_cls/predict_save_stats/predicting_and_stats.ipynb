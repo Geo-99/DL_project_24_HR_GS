{
  "nbformat": 4,
  "nbformat_minor": 0,
  "metadata": {
    "colab": {
      "provenance": [],
      "include_colab_link": true
    },
    "kernelspec": {
      "name": "python3",
      "display_name": "Python 3"
    },
    "language_info": {
      "name": "python"
    }
  },
  "cells": [
    {
      "cell_type": "markdown",
      "metadata": {
        "id": "view-in-github",
        "colab_type": "text"
      },
      "source": [
        "<a href=\"https://colab.research.google.com/github/Geo-99/DL_project_24_HR_GS/blob/main/predicting_and_stats.ipynb\" target=\"_parent\"><img src=\"https://colab.research.google.com/assets/colab-badge.svg\" alt=\"Open In Colab\"/></a>"
      ]
    },
    {
      "cell_type": "markdown",
      "source": [
        "# Script to save relevant parameters of cls model runs as .txt and .xlsx files"
      ],
      "metadata": {
        "id": "T4RWDnnmz8MA"
      }
    },
    {
      "cell_type": "code",
      "execution_count": null,
      "metadata": {
        "id": "dj4GcFirQaUp",
        "colab": {
          "base_uri": "https://localhost:8080/"
        },
        "outputId": "ad8ee7d6-ba3c-4528-abdf-402c54c5a421"
      },
      "outputs": [
        {
          "output_type": "stream",
          "name": "stdout",
          "text": [
            "Drive already mounted at /content/drive; to attempt to forcibly remount, call drive.mount(\"/content/drive\", force_remount=True).\n"
          ]
        }
      ],
      "source": [
        "from google.colab import drive\n",
        "drive.mount('/content/gdrive')"
      ]
    },
    {
      "cell_type": "code",
      "source": [
        "!pip install ultralytics"
      ],
      "metadata": {
        "id": "0gDsmmcgQh0y",
        "colab": {
          "base_uri": "https://localhost:8080/"
        },
        "outputId": "b73d6a6d-f19b-41a8-b149-1a0c965586eb",
        "collapsed": true
      },
      "execution_count": null,
      "outputs": [
        {
          "output_type": "stream",
          "name": "stdout",
          "text": [
            "Collecting ultralytics\n",
            "  Downloading ultralytics-8.2.82-py3-none-any.whl.metadata (41 kB)\n",
            "\u001b[?25l     \u001b[90m━━━━━━━━━━━━━━━━━━━━━━━━━━━━━━━━━━━━━━━━\u001b[0m \u001b[32m0.0/41.3 kB\u001b[0m \u001b[31m?\u001b[0m eta \u001b[36m-:--:--\u001b[0m\r\u001b[2K     \u001b[90m━━━━━━━━━━━━━━━━━━━━━━━━━━━━━━━━━━━━━━━━\u001b[0m \u001b[32m41.3/41.3 kB\u001b[0m \u001b[31m1.5 MB/s\u001b[0m eta \u001b[36m0:00:00\u001b[0m\n",
            "\u001b[?25hRequirement already satisfied: numpy<2.0.0,>=1.23.0 in /usr/local/lib/python3.10/dist-packages (from ultralytics) (1.26.4)\n",
            "Requirement already satisfied: matplotlib>=3.3.0 in /usr/local/lib/python3.10/dist-packages (from ultralytics) (3.7.1)\n",
            "Requirement already satisfied: opencv-python>=4.6.0 in /usr/local/lib/python3.10/dist-packages (from ultralytics) (4.10.0.84)\n",
            "Requirement already satisfied: pillow>=7.1.2 in /usr/local/lib/python3.10/dist-packages (from ultralytics) (9.4.0)\n",
            "Requirement already satisfied: pyyaml>=5.3.1 in /usr/local/lib/python3.10/dist-packages (from ultralytics) (6.0.2)\n",
            "Requirement already satisfied: requests>=2.23.0 in /usr/local/lib/python3.10/dist-packages (from ultralytics) (2.32.3)\n",
            "Requirement already satisfied: scipy>=1.4.1 in /usr/local/lib/python3.10/dist-packages (from ultralytics) (1.13.1)\n",
            "Requirement already satisfied: torch>=1.8.0 in /usr/local/lib/python3.10/dist-packages (from ultralytics) (2.4.0+cu121)\n",
            "Requirement already satisfied: torchvision>=0.9.0 in /usr/local/lib/python3.10/dist-packages (from ultralytics) (0.19.0+cu121)\n",
            "Requirement already satisfied: tqdm>=4.64.0 in /usr/local/lib/python3.10/dist-packages (from ultralytics) (4.66.5)\n",
            "Requirement already satisfied: psutil in /usr/local/lib/python3.10/dist-packages (from ultralytics) (5.9.5)\n",
            "Requirement already satisfied: py-cpuinfo in /usr/local/lib/python3.10/dist-packages (from ultralytics) (9.0.0)\n",
            "Requirement already satisfied: pandas>=1.1.4 in /usr/local/lib/python3.10/dist-packages (from ultralytics) (2.1.4)\n",
            "Requirement already satisfied: seaborn>=0.11.0 in /usr/local/lib/python3.10/dist-packages (from ultralytics) (0.13.1)\n",
            "Collecting ultralytics-thop>=2.0.0 (from ultralytics)\n",
            "  Downloading ultralytics_thop-2.0.5-py3-none-any.whl.metadata (8.9 kB)\n",
            "Requirement already satisfied: contourpy>=1.0.1 in /usr/local/lib/python3.10/dist-packages (from matplotlib>=3.3.0->ultralytics) (1.2.1)\n",
            "Requirement already satisfied: cycler>=0.10 in /usr/local/lib/python3.10/dist-packages (from matplotlib>=3.3.0->ultralytics) (0.12.1)\n",
            "Requirement already satisfied: fonttools>=4.22.0 in /usr/local/lib/python3.10/dist-packages (from matplotlib>=3.3.0->ultralytics) (4.53.1)\n",
            "Requirement already satisfied: kiwisolver>=1.0.1 in /usr/local/lib/python3.10/dist-packages (from matplotlib>=3.3.0->ultralytics) (1.4.5)\n",
            "Requirement already satisfied: packaging>=20.0 in /usr/local/lib/python3.10/dist-packages (from matplotlib>=3.3.0->ultralytics) (24.1)\n",
            "Requirement already satisfied: pyparsing>=2.3.1 in /usr/local/lib/python3.10/dist-packages (from matplotlib>=3.3.0->ultralytics) (3.1.2)\n",
            "Requirement already satisfied: python-dateutil>=2.7 in /usr/local/lib/python3.10/dist-packages (from matplotlib>=3.3.0->ultralytics) (2.8.2)\n",
            "Requirement already satisfied: pytz>=2020.1 in /usr/local/lib/python3.10/dist-packages (from pandas>=1.1.4->ultralytics) (2024.1)\n",
            "Requirement already satisfied: tzdata>=2022.1 in /usr/local/lib/python3.10/dist-packages (from pandas>=1.1.4->ultralytics) (2024.1)\n",
            "Requirement already satisfied: charset-normalizer<4,>=2 in /usr/local/lib/python3.10/dist-packages (from requests>=2.23.0->ultralytics) (3.3.2)\n",
            "Requirement already satisfied: idna<4,>=2.5 in /usr/local/lib/python3.10/dist-packages (from requests>=2.23.0->ultralytics) (3.7)\n",
            "Requirement already satisfied: urllib3<3,>=1.21.1 in /usr/local/lib/python3.10/dist-packages (from requests>=2.23.0->ultralytics) (2.0.7)\n",
            "Requirement already satisfied: certifi>=2017.4.17 in /usr/local/lib/python3.10/dist-packages (from requests>=2.23.0->ultralytics) (2024.7.4)\n",
            "Requirement already satisfied: filelock in /usr/local/lib/python3.10/dist-packages (from torch>=1.8.0->ultralytics) (3.15.4)\n",
            "Requirement already satisfied: typing-extensions>=4.8.0 in /usr/local/lib/python3.10/dist-packages (from torch>=1.8.0->ultralytics) (4.12.2)\n",
            "Requirement already satisfied: sympy in /usr/local/lib/python3.10/dist-packages (from torch>=1.8.0->ultralytics) (1.13.2)\n",
            "Requirement already satisfied: networkx in /usr/local/lib/python3.10/dist-packages (from torch>=1.8.0->ultralytics) (3.3)\n",
            "Requirement already satisfied: jinja2 in /usr/local/lib/python3.10/dist-packages (from torch>=1.8.0->ultralytics) (3.1.4)\n",
            "Requirement already satisfied: fsspec in /usr/local/lib/python3.10/dist-packages (from torch>=1.8.0->ultralytics) (2024.6.1)\n",
            "Requirement already satisfied: six>=1.5 in /usr/local/lib/python3.10/dist-packages (from python-dateutil>=2.7->matplotlib>=3.3.0->ultralytics) (1.16.0)\n",
            "Requirement already satisfied: MarkupSafe>=2.0 in /usr/local/lib/python3.10/dist-packages (from jinja2->torch>=1.8.0->ultralytics) (2.1.5)\n",
            "Requirement already satisfied: mpmath<1.4,>=1.1.0 in /usr/local/lib/python3.10/dist-packages (from sympy->torch>=1.8.0->ultralytics) (1.3.0)\n",
            "Downloading ultralytics-8.2.82-py3-none-any.whl (871 kB)\n",
            "\u001b[2K   \u001b[90m━━━━━━━━━━━━━━━━━━━━━━━━━━━━━━━━━━━━━━━━\u001b[0m \u001b[32m871.1/871.1 kB\u001b[0m \u001b[31m13.7 MB/s\u001b[0m eta \u001b[36m0:00:00\u001b[0m\n",
            "\u001b[?25hDownloading ultralytics_thop-2.0.5-py3-none-any.whl (25 kB)\n",
            "Installing collected packages: ultralytics-thop, ultralytics\n",
            "Successfully installed ultralytics-8.2.82 ultralytics-thop-2.0.5\n"
          ]
        }
      ]
    },
    {
      "cell_type": "code",
      "source": [
        "import os\n",
        "os.getcwd()"
      ],
      "metadata": {
        "colab": {
          "base_uri": "https://localhost:8080/",
          "height": 36
        },
        "id": "TurNfBJIaTc6",
        "outputId": "da2229a8-5b57-4aaf-baaf-73cb6c98c01b"
      },
      "execution_count": null,
      "outputs": [
        {
          "output_type": "execute_result",
          "data": {
            "text/plain": [
              "'/content/drive/My Drive/Uni/deep_learning_project'"
            ],
            "application/vnd.google.colaboratory.intrinsic+json": {
              "type": "string"
            }
          },
          "metadata": {},
          "execution_count": 83
        }
      ]
    },
    {
      "cell_type": "code",
      "source": [
        "os.chdir('/content/gdrive/MyDrive')"
      ],
      "metadata": {
        "id": "Vv07scTeatwt"
      },
      "execution_count": null,
      "outputs": []
    },
    {
      "cell_type": "code",
      "source": [
        "from ultralytics import YOLO\n",
        "import numpy as np\n",
        "import pandas as pd"
      ],
      "metadata": {
        "id": "dj8lbyx5QoBm"
      },
      "execution_count": null,
      "outputs": []
    },
    {
      "cell_type": "code",
      "source": [
        "# function to save the statistics in a dataframe\n",
        "\n",
        "def results_to_df(results, correct):\n",
        "  cols = [\"filename\", \"correct\"]\n",
        "  cols.extend(list((results[0].names).values()))\n",
        "\n",
        "  dataframe = pd.DataFrame(columns=cols)\n",
        "\n",
        "  for i in range(len(results)):\n",
        "\n",
        "    # Dictionary of class names\n",
        "    names_dict = results[0].names\n",
        "\n",
        "    values_i = []\n",
        "    values_i.append(results[i].path[results[i].path.rfind('/') + 1:])\n",
        "\n",
        "    if names_dict[np.argmax(results[i].probs.data.tolist())] == correct:\n",
        "      values_i.append(1)\n",
        "    else:\n",
        "      values_i.append(0)\n",
        "\n",
        "    values_i.extend(results[i].probs.data.tolist())\n",
        "\n",
        "    dataframe.loc[len(dataframe)] = values_i\n",
        "\n",
        "  return dataframe"
      ],
      "metadata": {
        "id": "m8_gSkReW9Am"
      },
      "execution_count": null,
      "outputs": []
    },
    {
      "cell_type": "code",
      "source": [
        "# function to save the statistics in drive\n",
        "\n",
        "def save_stats(dataframe, save_name, save_path):\n",
        "\n",
        "  with open(f'{save_path}/{save_name}.txt', 'w') as f:\n",
        "    pass\n",
        "  with open(f'{save_path}/{save_name}.txt', 'w') as f:\n",
        "\n",
        "    # calculate the statistics\n",
        "    perc = (dataframe[\"correct\"]==1).sum()/len(dataframe)*100\n",
        "    f.write(f'accuracy:\\n{perc:.2f}%\\n')\n",
        "\n",
        "    # mean confidence for the correctly and falsely labelled img, respectively\n",
        "    mean_conf_correct = dataframe[dataframe[\"correct\"]==1].iloc[:, 2:].mean()\n",
        "    mean_conf_false = dataframe[dataframe[\"correct\"]==0].iloc[:, 2:].mean()\n",
        "\n",
        "    f.write(f'mean confidence for correctly labelled images:\\n{mean_conf_correct}\\n')\n",
        "    f.write(f'mean confidence for falsely labelled images:\\n{mean_conf_false}\\n')\n",
        "\n",
        "  dataframe.to_excel(f'{save_path}/{save_name}.xlsx', index=False)"
      ],
      "metadata": {
        "id": "IKGFoBF6Y6Uc"
      },
      "execution_count": null,
      "outputs": []
    },
    {
      "cell_type": "code",
      "source": [
        "# Load the models\n",
        "model_m = YOLO(\"./2_cls/1_m_model/weights/best.pt\")\n",
        "model_l = YOLO(\"./2_cls/2_l_model/weights/best.pt\")"
      ],
      "metadata": {
        "id": "EXqvZfe65Thl"
      },
      "execution_count": null,
      "outputs": []
    },
    {
      "cell_type": "markdown",
      "source": [
        "#predicting test 1 classifications and saving stats"
      ],
      "metadata": {
        "id": "Jxb9Gzya5pFm"
      }
    },
    {
      "cell_type": "code",
      "source": [
        "# predicting test 1 for m model \"no_constr\"\n",
        "results_m_test_no_constr = model_m('./SHARED_FOLDER/2_cls/test_1/test_no_constr')\n",
        "# save statistics in dataframe\n",
        "df_m_test_no_constr = results_to_df(results_m_test_no_constr, \"no_constr\")\n",
        "# save statistics in drive\n",
        "save_stats(df_m_test_no_constr, 'm_test_no_constr',  '//content/gdrive/MyDrive/XY')"
      ],
      "metadata": {
        "id": "bZrTiYqzbRSz"
      },
      "execution_count": null,
      "outputs": []
    },
    {
      "cell_type": "code",
      "source": [
        "# predicting test 1 for m model \"constr\"\n",
        "results_m_test_constr = model_m('./SHARED_FOLDER/2_cls/test_1/test_constr')\n",
        "# save statistics in dataframe\n",
        "df_m_test_constr = results_to_df(results_m_test_constr, \"constr\")\n",
        "# save statistics in drive\n",
        "save_stats(df_m_test_constr, 'm_test_constr',  '//content/gdrive/MyDrive/XY')"
      ],
      "metadata": {
        "id": "63jKsCzZbSjJ"
      },
      "execution_count": null,
      "outputs": []
    },
    {
      "cell_type": "markdown",
      "source": [
        "same for the l model"
      ],
      "metadata": {
        "id": "pwNliaOJ76J1"
      }
    },
    {
      "cell_type": "code",
      "source": [
        "# predicting test 1 for l model \"no_constr\"\n",
        "results_l_test_no_constr = model_l('./SHARED_FOLDER/2_cls/test_1/test_no_constr')\n",
        "# save statistics in dataframe\n",
        "df_l_test_no_constr = results_to_df(results_l_test_no_constr, \"no_constr\")\n",
        "# save statistics in drive\n",
        "save_stats(df_l_test_no_constr, 'l_test_no_constr',  '//content/gdrive/MyDrive/XY')"
      ],
      "metadata": {
        "id": "5A6FEUSDPgEr"
      },
      "execution_count": null,
      "outputs": []
    },
    {
      "cell_type": "code",
      "source": [
        "# predicting test 1 for l model \"constr\"\n",
        "results_l_test_constr = model_l('./SHARED_FOLDER/2_cls/test_1/test_constr')\n",
        "# save statistics in dataframe\n",
        "df_l_test_constr = results_to_df(results_l_test_constr, \"constr\")\n",
        "# save statistics in drive\n",
        "save_stats(df_l_test_constr, 'l_test_constr',  '//content/gdrive/MyDrive/XY')"
      ],
      "metadata": {
        "id": "Heg2U--nQ6qI"
      },
      "execution_count": null,
      "outputs": []
    },
    {
      "cell_type": "markdown",
      "source": [
        "#and now for the test 2"
      ],
      "metadata": {
        "id": "rOMaqL-78oWD"
      }
    },
    {
      "cell_type": "code",
      "source": [
        "results_m_no_constr = model_m('./SHARED_FOLDER/2_cls/test_2/no_const')\n",
        "df_m_no_constr = results_to_df(results_m_no_constr, \"no_constr\")\n",
        "save_stats(df_m_no_constr, 'm_no_constr',  '//content/gdrive/MyDrive/XY')"
      ],
      "metadata": {
        "id": "wdAWWucioNmf",
        "collapsed": true
      },
      "execution_count": null,
      "outputs": []
    },
    {
      "cell_type": "code",
      "source": [
        "results_m_constr_no_crane = model_m('./SHARED_FOLDER/2_cls/test_2/const_no_crane')\n",
        "df_m_constr_no_crane = results_to_df(results_m_constr_no_crane, \"constr\")\n",
        "save_stats(df_m_constr_no_crane, 'm_constr_no_crane',  '//content/gdrive/MyDrive/XY')"
      ],
      "metadata": {
        "id": "TjeYzfXWpeLo"
      },
      "execution_count": null,
      "outputs": []
    },
    {
      "cell_type": "code",
      "source": [
        "results_m_constr = model_m('./SHARED_FOLDER/2_cls/test_2/const_with_crane')\n",
        "df_m_constr = results_to_df(results_m_constr, \"constr\")\n",
        "save_stats(df_m_constr, 'm_constr_with_crane',  '//content/gdrive/MyDrive/XY')"
      ],
      "metadata": {
        "id": "9EAeQ6RRnVSa",
        "collapsed": true
      },
      "execution_count": null,
      "outputs": []
    },
    {
      "cell_type": "markdown",
      "source": [
        "same for the l model"
      ],
      "metadata": {
        "id": "KDWqrTjm9QCW"
      }
    },
    {
      "cell_type": "code",
      "source": [
        "results_l_no_constr = model_l('./SHARED_FOLDER/2_cls/test_2/no_const')\n",
        "df_l_no_const = results_to_df(results_l_no_constr, \"no_constr\")\n",
        "save_stats(df_l_no_const, 'l_no_const',  '//content/gdrive/MyDrive/XY')"
      ],
      "metadata": {
        "id": "Jsl88MfOowQM"
      },
      "execution_count": null,
      "outputs": []
    },
    {
      "cell_type": "code",
      "source": [
        "results_l_constr_no_crane = model_l('./SHARED_FOLDER/2_cls/test_2/const_no_crane')\n",
        "df_l_const_no_crane = results_to_df(results_l_constr_no_crane, \"constr\")\n",
        "save_stats(df_l_const_no_crane, 'l_const_no_crane',  '//content/gdrive/MyDrive/XY')"
      ],
      "metadata": {
        "id": "tZJUQlJLydxh"
      },
      "execution_count": null,
      "outputs": []
    },
    {
      "cell_type": "code",
      "source": [
        "results_l_constr_with_crane = model_l('.SHARED_FOLDER/2_cls/test_2/const_with_crane')\n",
        "df_l_constr_with_crane = results_to_df(results_l_constr_with_crane, \"constr\")\n",
        "save_stats(df_l_constr_with_crane, 'l_constr_with_crane',  '//content/gdrive/MyDrive/XY')"
      ],
      "metadata": {
        "id": "ZdDwKKIuooU7"
      },
      "execution_count": null,
      "outputs": []
    },
    {
      "cell_type": "markdown",
      "source": [],
      "metadata": {
        "id": "0t3xmRWBbmvq"
      }
    }
  ]
}